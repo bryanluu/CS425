{
 "cells": [
  {
   "cell_type": "markdown",
   "metadata": {},
   "source": [
    "# ISYE/Math/CS 425 - Assignment 5\n",
    "### Members\n",
    "- Bryan Luu\n",
    "- Mehmet Ali Tever"
   ]
  },
  {
   "cell_type": "markdown",
   "metadata": {},
   "source": [
    "## Contents\n",
    "- [Exercise 1](#Exercise-1)\n",
    "- [Exercise 2](#Exercise-2)\n",
    "- [Exercise 3](#Exercise-3)\n",
    "- [Exercise 4](#Exercise-4)\n",
    "- [Exercise 5](#Exercise-5)"
   ]
  },
  {
   "cell_type": "markdown",
   "metadata": {},
   "source": [
    "## Exercise 1"
   ]
  },
  {
   "cell_type": "markdown",
   "metadata": {},
   "source": []
  },
  {
   "cell_type": "markdown",
   "metadata": {},
   "source": [
    "## Exercise 2"
   ]
  },
  {
   "cell_type": "markdown",
   "metadata": {},
   "source": []
  },
  {
   "cell_type": "markdown",
   "metadata": {},
   "source": [
    "## Exercise 3"
   ]
  },
  {
   "cell_type": "markdown",
   "metadata": {},
   "source": [
    "Le $M$ be a matching of graph $G$, and $p = \\nu(G)$ be the maximum cardinality of a matching of G. Let $K$ be the number of node-disjoint $M$-augmenting paths. We need to prove that $K \\geq p - |M|$.\n",
    "\n",
    "We define $N$ as a maximum matching such that $|N| = p$. Let us look at the symmetric difference, $J = N\\Delta M$. In $J$, there consists of:\n",
    "- node-disjoint circuits of G\n",
    "- node-disjoint paths of G\n",
    "\n",
    "Because $N, M$ are matchings, any path in $J$ alternates between $M$ and $N$. Based on this, we can say that the number of edges in $M$ and $N$ are equal for circuits in $J$, and paths of $J$ which have even number of edges. Furthermore, we observe that for every odd-length path in $J$, because the path is alternating, the number of edges in $N$ and $M$ differ by 1.\n",
    "\n",
    "Let $P$ be a path in $J$, and let $m(P), n(P)$ be the number of edges in $M, N$ respectively. For every $P$ such that $n(P) = m(P) + 1$, $P$ is an $M$-augmenting path because the $N$ edges sandwich the $M$ edges at the ends, and end-nodes are $M$-exposed. Also, using $P$ to augment $M$ (by setting $M' = M \\Delta E(P)$) increases the matching size by 1.\n",
    "\n",
    "Let the disrepancy between $N$ and $M$ be $k = |N| - |M| = p - |M|$. Then we need to augment $M$ by $k$ times to reach a maximum matching. But how do we know that there exists $k$ available $M$-augmenting paths? Well, when we take the symmetric difference as above ($J = N\\Delta M$), the extra $N$ edges will only appear in paths $P$ where $n(P) = m(P) + 1$. These are $M$-augmenting paths as shown above. There can be leftover unused $M$-augmenting paths in the case where $n(P) + 1 = m(P)$; any such paths in $J$ 'cancel' contributions from $M$-augmenting paths. Because of this, $k$, the number of $M$-augmenting paths needed to reach $p$ can be less than the total number of $M$-augmenting paths, $K$ in $J$. So $K \\geq k = p - |M|$."
   ]
  },
  {
   "cell_type": "markdown",
   "metadata": {},
   "source": [
    "## Exercise 4"
   ]
  },
  {
   "cell_type": "markdown",
   "metadata": {},
   "source": [
    "The question defines $p$ as the cardinality of a maximum-matching in $G$. $M$ is a matching of at most cardinality $p - \\sqrt{p}$. Let $m(P)$ be the number of edges of path $P$ that belong in $M$. We can convert the problem statement into the logical expression:\n",
    "\n",
    "$|M| \\leq p - \\sqrt{p} \\Rightarrow \\exists \\textrm{ an }M\\textrm{-augmenting path }P : m(P) \\leq \\sqrt{p}$\n",
    "\n",
    "Which we need to prove. We can do this by proving the contrapositive:\n",
    "\n",
    "$\\forall M\\textrm{-augmenting paths } P : m(P) \\gt \\sqrt{p} \\Rightarrow |M| \\gt p - \\sqrt{p}$\n",
    "\n",
    "We start by assuming that they satisfy the contrapositive condition; namely, that all $M$-augmenting paths have more than $\\sqrt{p}$ edges in $M$. So $m(P) \\gt \\sqrt{p}$. Next, exercise [#3](#Exercise-3) states that there are at least $p - |M|$ node-disjoint $M$-augmenting paths. Let us denote the number of $M$-augmenting paths as $k \\gt p - |M|$. The total $M$-edges in all these paths are upper-bounded by $|M|$. This total number $T$ of $M$-edges is lower-bounded by all paths having the same number of $M$-edges greater than $\\sqrt{p}$. So:\n",
    "\n",
    "$k\\sqrt{p} \\lt T \\lt |M|$\n",
    "\n",
    "We can substitute the bound from exercise #3 to get:\n",
    "\n",
    "$(p - |M|)\\sqrt{p} \\lt T \\lt |M|$\n",
    "\n",
    "We can remove the middle-man $T$, and solve for the bounds of $|M|$:\n",
    "\n",
    "$|M| \\gt p \\left( \\frac{\\sqrt{p}}{1+\\sqrt{p}}\\right)$\n",
    "\n",
    "We re-write this as $|M| \\gt p\\frac{\\sqrt{p}}{1+\\sqrt{p}} = p(1 - \\frac{1}{1+\\sqrt{p}}) = p - \\frac{p}{1+\\sqrt{p}}$. We compare this to the desired outcome: $|M| \\gt p - \\sqrt{p}$. It stands that we need to show that $\\frac{p}{1+\\sqrt{p}} \\lt \\sqrt{p}$. This can be done by dividing one by the other:\n",
    "\n",
    "$\\frac{\\left(\\frac{p}{1+\\sqrt{p}}\\right)}{\\sqrt{p}} = \\frac{p}{p + \\sqrt{p}} \\lt 1\\ \\forall\\ p \\gt 0$ which means $\\frac{p}{1+\\sqrt{p}} \\lt \\sqrt{p}$\n",
    "\n",
    "(Where we used the fact that $p \\gt 0$ and thus denominator is larger than the numerator). This means that $|M| \\gt p - \\sqrt{p}$ and so our contrapositive is proven."
   ]
  },
  {
   "cell_type": "markdown",
   "metadata": {},
   "source": [
    "## Exercise 5"
   ]
  },
  {
   "cell_type": "markdown",
   "metadata": {},
   "source": []
  }
 ],
 "metadata": {
  "kernelspec": {
   "display_name": "Julia 1.5.2",
   "language": "julia",
   "name": "julia-1.5"
  },
  "language_info": {
   "file_extension": ".jl",
   "mimetype": "application/julia",
   "name": "julia",
   "version": "1.5.2"
  }
 },
 "nbformat": 4,
 "nbformat_minor": 2
}
