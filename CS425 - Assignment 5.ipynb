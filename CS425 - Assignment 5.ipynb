{
 "cells": [
  {
   "cell_type": "markdown",
   "metadata": {},
   "source": [
    "# ISYE/Math/CS 425 - Assignment 5\n",
    "### Members\n",
    "- Bryan Luu\n",
    "- Mehmet Ali Tever"
   ]
  },
  {
   "cell_type": "markdown",
   "metadata": {},
   "source": [
    "## Contents\n",
    "- [Exercise 1](#Exercise-1)\n",
    "- [Exercise 2](#Exercise-2)\n",
    "- [Exercise 3](#Exercise-3)\n",
    "- [Exercise 4](#Exercise-4)\n",
    "- [Exercise 5](#Exercise-5)"
   ]
  },
  {
   "cell_type": "markdown",
   "metadata": {},
   "source": [
    "## Exercise 1"
   ]
  },
  {
   "cell_type": "markdown",
   "metadata": {},
   "source": [
    "Let $x$ be the integral feasible flow corresponding to the matching $M$ of the bipartite graph $G$. Because $G$ is bipartite, it is composed of partitions $P$ and $Q$, and we can construct a max-flow graph $G'$ as discussed in lecture (nodes of $P$ and $Q$, arcs connecting $P$ to $Q$ along edges in $G$, and a source node $r$, a sink node $s$ with capacities:\n",
    "\n",
    "$u_{rp} = 1\\ \\forall\\ p\\in P\\\\ u_{pq} = \\infty\\ \\forall\\ p\\in P, q\\in Q, pq \\in E(G)\\\\ u_{qs} = 1\\ \\forall\\ q\\in Q$\n",
    "\n",
    "Let us denote the set of nodes of $P$ and $Q$ that are exposed by $M$ as $P', Q'$ respectively. For an $(r,s)$-path to be considered an $x$-augmenting path, it needs to have:\n",
    "- $x_e < u_e\\ \\forall \\textrm{ forward arcs in the path}$\n",
    "- $x_e > 0\\ \\forall \\textrm{ reverse arcs in the path}$\n",
    "\n",
    "However, we note that there are no $(r,s)$-paths in $G'$ with reverse arcs, so finding a path where the flow is less than the capacity is enough. Next, we know that the $(r, s)$-paths with flow along them are already at capacity 1 (by the integral nature of $u$); these correspond with $pq$ matches in $M$. Therefore, only $(r,s)$-paths connecting $P'$ and $Q'$ are available. Because these have no flow on them ($x$ only covers $pq$ pairs in $M$), and they represent an $(r,s)$-path ($rp-pq-qs$ where $pq \\notin M$), these are by definition $x$-augmenting paths. Because $p \\in P'$ and $q \\in Q'$, this $x$-augmenting path contains an exposed $pq$ pair, and this $pq$ arc is an $M$-augmenting path because its endpoints in $G$ are exposed by $M$; this $pq$ is thus an $M$-augmenting path as well."
   ]
  },
  {
   "cell_type": "markdown",
   "metadata": {},
   "source": [
    "## Exercise 2"
   ]
  },
  {
   "cell_type": "markdown",
   "metadata": {},
   "source": [
    "There are several different situations that we will evaluate with this question.\n",
    "\n",
    "First, let us assume there are two covers $C$ and $C'$ that are randomly distributed on $G$; some nodes in $P$ and some in $Q$.\n",
    "\n",
    "Let us first solve the right side of the union sign. We start with the interior parenthesis. $C \\cup C'$ is itself a cover (albeit with greater cardinality), because both $C$ and $C'$ are individually covers. If we take the intersection of this union with $Q$, we get the $Q$ nodes of $C \\cup C'$.\n",
    "\n",
    "For $P$, we have two cases:\n",
    "1. $C \\cap C' = \\emptyset$\n",
    "\n",
    "In which case, $P \\cap \\emptyset = \\emptyset$, so the left side of the union would be the empty set. Then, $(P \\cap (C \\cap C'))\\cup(Q \\cap (C \\cup C'))$ is a cover.\n",
    "\n",
    "2. $C \\cap C' \\neq \\emptyset$\n",
    "\n",
    "This would give us two cases:\n",
    "i. $P \\cap (C \\cap C') = \\emptyset$, meaning all nodes in $C \\cap C'$ are in $Q$. The union of the empty set and $Q \\cap (C \\cup C')$ (which is a cover), is a cover.\n",
    "ii. $P \\cap (C \\cap C') \\neq \\emptyset$\n",
    "\n",
    "In this case, both sides of the union sign are nodes of covers, thus the union of a set of nodes of covers and another set of nodes of covers, would give us a cover.\n"
   ]
  },
  {
   "cell_type": "markdown",
   "metadata": {},
   "source": [
    "## Exercise 3"
   ]
  },
  {
   "cell_type": "markdown",
   "metadata": {},
   "source": [
    "Le $M$ be a matching of graph $G$, and $p = \\nu(G)$ be the maximum cardinality of a matching of G. Let $K$ be the number of node-disjoint $M$-augmenting paths. We need to prove that $K \\geq p - |M|$.\n",
    "\n",
    "We define $N$ as a maximum matching such that $|N| = p$. Let us look at the symmetric difference, $J = N\\Delta M$. In $J$, there consists of:\n",
    "- node-disjoint circuits of G\n",
    "- node-disjoint paths of G\n",
    "\n",
    "Because $N, M$ are matchings, any path in $J$ alternates between $M$ and $N$. Based on this, we can say that the number of edges in $M$ and $N$ are equal for circuits in $J$, and paths of $J$ which have even number of edges. Furthermore, we observe that for every odd-length path in $J$, because the path is alternating, the number of edges in $N$ and $M$ differ by 1.\n",
    "\n",
    "Let $P$ be a path in $J$, and let $m(P), n(P)$ be the number of edges in $M, N$ respectively. For every $P$ such that $n(P) = m(P) + 1$, $P$ is an $M$-augmenting path because the $N$ edges sandwich the $M$ edges at the ends, and end-nodes are $M$-exposed. Also, using $P$ to augment $M$ (by setting $M' = M \\Delta E(P)$) increases the matching size by 1.\n",
    "\n",
    "Let the disrepancy between $N$ and $M$ be $k = |N| - |M| = p - |M|$. Then we need to augment $M$ by $k$ times to reach a maximum matching. But how do we know that there exists $k$ available $M$-augmenting paths? Well, when we take the symmetric difference as above ($J = N\\Delta M$), the extra $N$ edges will only appear in paths $P$ where $n(P) = m(P) + 1$. These are $M$-augmenting paths as shown above. There can be leftover unused $M$-augmenting paths in the case where $n(P) + 1 = m(P)$; any such paths in $J$ 'cancel' contributions from $M$-augmenting paths. Because of this, $k$, the number of $M$-augmenting paths needed to reach $p$ can be less than the total number of $M$-augmenting paths, $K$ in $J$. So $K \\geq k = p - |M|$."
   ]
  },
  {
   "cell_type": "markdown",
   "metadata": {},
   "source": [
    "## Exercise 4"
   ]
  },
  {
   "cell_type": "markdown",
   "metadata": {},
   "source": [
    "The question defines $p$ as the cardinality of a maximum-matching in $G$. $M$ is a matching of at most cardinality $p - \\sqrt{p}$. Let $m(P)$ be the number of edges of path $P$ that belong in $M$. We can convert the problem statement into the logical expression:\n",
    "\n",
    "$|M| \\leq p - \\sqrt{p} \\Rightarrow \\exists \\textrm{ an }M\\textrm{-augmenting path }P : m(P) \\leq \\sqrt{p}$\n",
    "\n",
    "Which we need to prove. We can do this by proving the contrapositive:\n",
    "\n",
    "$\\forall M\\textrm{-augmenting paths } P : m(P) \\gt \\sqrt{p} \\Rightarrow |M| \\gt p - \\sqrt{p}$\n",
    "\n",
    "We start by assuming that they satisfy the contrapositive condition; namely, that all $M$-augmenting paths have more than $\\sqrt{p}$ edges in $M$. So $m(P) \\gt \\sqrt{p}$. Next, exercise [#3](#Exercise-3) states that there are at least $p - |M|$ node-disjoint $M$-augmenting paths. Let us denote the number of $M$-augmenting paths as $k \\gt p - |M|$. The total $M$-edges in all these paths are upper-bounded by $|M|$. This total number $T$ of $M$-edges is lower-bounded by all paths having the same number of $M$-edges greater than $\\sqrt{p}$. So:\n",
    "\n",
    "$k\\sqrt{p} \\lt T \\lt |M|$\n",
    "\n",
    "We can substitute the bound from exercise #3 to get:\n",
    "\n",
    "$(p - |M|)\\sqrt{p} \\lt T \\lt |M|$\n",
    "\n",
    "We can remove the middle-man $T$, and solve for the bounds of $|M|$:\n",
    "\n",
    "$|M| \\gt p \\left( \\frac{\\sqrt{p}}{1+\\sqrt{p}}\\right)$\n",
    "\n",
    "We re-write this as $|M| \\gt p\\frac{\\sqrt{p}}{1+\\sqrt{p}} = p(1 - \\frac{1}{1+\\sqrt{p}}) = p - \\frac{p}{1+\\sqrt{p}}$. We compare this to the desired outcome: $|M| \\gt p - \\sqrt{p}$. It stands that we need to show that $\\frac{p}{1+\\sqrt{p}} \\lt \\sqrt{p}$. This can be done by dividing one by the other:\n",
    "\n",
    "$\\frac{\\left(\\frac{p}{1+\\sqrt{p}}\\right)}{\\sqrt{p}} = \\frac{p}{p + \\sqrt{p}} \\lt 1\\ \\forall\\ p \\gt 0$ which means $\\frac{p}{1+\\sqrt{p}} \\lt \\sqrt{p}$\n",
    "\n",
    "(Where we used the fact that $p \\gt 0$ and thus denominator is larger than the numerator). This means that $|M| \\gt p - \\sqrt{p}$ and so our contrapositive is proven."
   ]
  },
  {
   "cell_type": "markdown",
   "metadata": {},
   "source": [
    "## Exercise 5"
   ]
  },
  {
   "cell_type": "markdown",
   "metadata": {},
   "source": [
    "Every node has 3 connections/neighbors.\n",
    "\n",
    "$\\begin{array}{c}\n",
    "C \\subseteq V \\\\\n",
    "|C| \\textrm{ is odd.}\n",
    "\\end{array}\\Bigg\\}$ Given assumptions; $V(G)$ the set of nodes of $G$.\n",
    "\n",
    "Then, we can say:\n",
    "\n",
    "$\\sum\\limits_{v \\in C} \\deg(v) = 3|C|\\ : C\\textrm{ satisfies the above conditions.}$\n",
    "\n",
    "where we used the fact that every node has 3 neighbors. Because $C \\subseteq V$, we also know $\\sum\\limits_{v \\in C} \\deg(v) = 2|E(C)| + |\\delta(C)|$. Then,\n",
    "\n",
    "$|\\delta(C)| = \\sum\\limits_{v \\in C} \\deg(v) - 2|E(C)| = \\underbrace{3|C|}_{\\textrm{odd}} - \\underbrace{2|E(C)|}_{\\textrm{even}} \\Rightarrow |\\delta(C)| \\textrm{ is odd.}$\n",
    "\n",
    "Since this graph is connected and nodes are 3-degree,\n",
    "\n",
    "$|\\delta(C)| \\geq 3$\n",
    "\n",
    "And\n",
    "\n",
    "$\\textrm{oc}(G \\setminus C) \\leq \\frac{1}{3}\\sum\\limits_{v \\in C} \\deg(v) = \\frac{1}{3}(3|C|) = |C|$\n",
    "\n",
    "By Tutte's Matching Theorem, if $\\textrm{oc}(G \\setminus U) \\leq |U|$ is valid for every subset $U$ of nodes, then $G$ has a perfect matching. Since this is true for any $C$, then $G$ has a perfect matching."
   ]
  }
 ],
 "metadata": {
  "kernelspec": {
   "display_name": "Julia 1.5.2",
   "language": "julia",
   "name": "julia-1.5"
  },
  "language_info": {
   "file_extension": ".jl",
   "mimetype": "application/julia",
   "name": "julia",
   "version": "1.5.2"
  }
 },
 "nbformat": 4,
 "nbformat_minor": 2
}
